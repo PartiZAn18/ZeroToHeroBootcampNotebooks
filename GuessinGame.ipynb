{
 "cells": [
  {
   "cell_type": "code",
   "execution_count": 88,
   "metadata": {},
   "outputs": [],
   "source": [
    "from random import shuffle"
   ]
  },
  {
   "cell_type": "code",
   "execution_count": 89,
   "metadata": {},
   "outputs": [],
   "source": [
    "#mhlist = [' ','O',' ']"
   ]
  },
  {
   "cell_type": "code",
   "execution_count": 108,
   "metadata": {},
   "outputs": [],
   "source": [
    "#shuffle(mhlist)"
   ]
  },
  {
   "cell_type": "code",
   "execution_count": 109,
   "metadata": {},
   "outputs": [],
   "source": [
    "#mhlist"
   ]
  },
  {
   "cell_type": "code",
   "execution_count": 110,
   "metadata": {},
   "outputs": [],
   "source": [
    "def listshuffle(mhlist): #mhlist in brackets\n",
    "    shuffle(mhlist)\n",
    "    \n",
    "    return(mhlist)"
   ]
  },
  {
   "cell_type": "code",
   "execution_count": 111,
   "metadata": {},
   "outputs": [],
   "source": [
    "def mhguess():\n",
    "    guess1 = ''\n",
    "    \n",
    "    while guess1 not in ['0','1','2']:\n",
    "        guess1 = input('Choose between 0,1,2')\n",
    "    return int(guess1)"
   ]
  },
  {
   "cell_type": "code",
   "execution_count": 112,
   "metadata": {},
   "outputs": [],
   "source": [
    "def checkguess(mhlist,guess1):\n",
    "    if mhlist[guess1] == 'O':\n",
    "        print ('Yes good guess!')\n",
    "        print(mhlist)\n",
    "    else:\n",
    "        print('Wrong')\n",
    "        print(mhlist)"
   ]
  },
  {
   "cell_type": "code",
   "execution_count": 113,
   "metadata": {},
   "outputs": [
    {
     "name": "stdin",
     "output_type": "stream",
     "text": [
      "Choose between 0,1,2 1\n"
     ]
    },
    {
     "name": "stdout",
     "output_type": "stream",
     "text": [
      "Yes good guess!\n",
      "[' ', 'O', ' ']\n"
     ]
    }
   ],
   "source": [
    "mh1list = [' ','O',' ']\n",
    "newlist = listshuffle(mh1list)\n",
    "newguess = mhguess()\n",
    "checkguess(newlist,newguess)"
   ]
  },
  {
   "cell_type": "code",
   "execution_count": null,
   "metadata": {},
   "outputs": [],
   "source": []
  },
  {
   "cell_type": "code",
   "execution_count": null,
   "metadata": {},
   "outputs": [],
   "source": []
  }
 ],
 "metadata": {
  "kernelspec": {
   "display_name": "Python 3",
   "language": "python",
   "name": "python3"
  },
  "language_info": {
   "codemirror_mode": {
    "name": "ipython",
    "version": 3
   },
   "file_extension": ".py",
   "mimetype": "text/x-python",
   "name": "python",
   "nbconvert_exporter": "python",
   "pygments_lexer": "ipython3",
   "version": "3.8.5"
  }
 },
 "nbformat": 4,
 "nbformat_minor": 4
}
